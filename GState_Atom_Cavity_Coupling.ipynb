{
 "cells": [
  {
   "cell_type": "markdown",
   "metadata": {},
   "source": [
    "# QuTiP example: Groundstate of an ultra-strong coupled atom-cavity system\n",
    "\n",
    "This notebook is based on https://nbviewer.jupyter.org/github/qutip/qutip-notebooks/blob/master/examples/ultrastrong-coupling-groundstate.ipynb .\n"
   ]
  },
  {
   "cell_type": "code",
   "execution_count": 21,
   "metadata": {},
   "outputs": [],
   "source": [
    "%matplotlib inline\n",
    "import matplotlib.pyplot as plt\n",
    "from qutip import *\n",
    "import numpy as np\n",
    "import time\n",
    "from mpl_toolkits.mplot3d import Axes3D"
   ]
  },
  {
   "cell_type": "code",
   "execution_count": 22,
   "metadata": {},
   "outputs": [],
   "source": [
    "def compute(N, wc, wa, glist, use_rwa):\n",
    "\n",
    "    # Pre-compute operators for the hamiltonian\n",
    "    a  = tensor(destroy(N), qeye(2))\n",
    "    sm = tensor(qeye(N), destroy(2))\n",
    "    nc = a.dag() * a\n",
    "    na = sm.dag() * sm\n",
    "        \n",
    "    idx = 0\n",
    "    na_expt = np.zeros(shape(glist))\n",
    "    nc_expt = np.zeros(shape(glist))\n",
    "    for g in glist:\n",
    "\n",
    "        # recalculate the hamiltonian for each value of g\n",
    "        if use_rwa: \n",
    "            H = wc * nc + wa * na + g * (a.dag() * sm + a * sm.dag())\n",
    "        else:\n",
    "            H = wc * nc + wa * na + g * (a.dag() + a) * (sm + sm.dag())\n",
    "\n",
    "        # find the groundstate of the composite system\n",
    "        evals, ekets = H.eigenstates()\n",
    "        psi_gnd = ekets[0]\n",
    "        na_expt[idx] = expect(na, psi_gnd)\n",
    "        nc_expt[idx] = expect(nc, psi_gnd)\n",
    "\n",
    "        idx += 1\n",
    "\n",
    "    return nc_expt, na_expt, ket2dm(psi_gnd)"
   ]
  },
  {
   "cell_type": "code",
   "execution_count": 23,
   "metadata": {},
   "outputs": [
    {
     "data": {
      "application/vnd.jupyter.widget-view+json": {
       "model_id": "b4386a4a9ae14597b278dd2ff06da787",
       "version_major": 2,
       "version_minor": 0
      },
      "text/plain": [
       "interactive(children=(FloatSlider(value=1.0, description='wc_per_pi', max=2.0, step=0.5), FloatSlider(value=1.…"
      ]
     },
     "metadata": {},
     "output_type": "display_data"
    }
   ],
   "source": [
    "\n",
    "from ipywidgets import interact\n",
    "\n",
    "@interact(wc_per_pi=(0, 2.0, 0.5), wa_per_pi=(0, 2.0, 0.5), N=(10, 30, 1), use_rwa=False )\n",
    "def calculate(wc_per_pi, wa_per_pi, N = 20, use_rwa = False):\n",
    "    wc = wc_per_pi * 2 * np.pi   # cavity frequency\n",
    "    wa = wa_per_pi * 2 * np.pi   # atom frequency\n",
    "    #N = 20              # number of cavity fock states\n",
    "    #use_rwa = False     # Set to True to see that non-RWA is necessary in this regime\n",
    "    \n",
    "    glist = np.linspace(0, 2.5, 50) * 2 * np.pi\n",
    "    start_time = time.time()\n",
    "    nc, na, rhoss_final = compute(N, wc, wa, glist, use_rwa)\n",
    "    print('time elapsed = ' + str(time.time() - start_time)) \n",
    "    \n",
    "    fig, ax = plt.subplots(figsize=(8,6))\n",
    "\n",
    "    ax.plot(glist/(2*np.pi), nc)\n",
    "    ax.plot(glist/(2*np.pi), na)\n",
    "    ax.legend((\"Cavity\", \"Atom excited state\"))\n",
    "    ax.set_xlabel('g - coupling strength')\n",
    "    ax.set_ylabel('Occupation probability')\n",
    "    ax.set_title('# photons in the groundstate');\n",
    "    \n"
   ]
  },
  {
   "cell_type": "code",
   "execution_count": null,
   "metadata": {},
   "outputs": [],
   "source": []
  },
  {
   "cell_type": "code",
   "execution_count": null,
   "metadata": {},
   "outputs": [],
   "source": []
  }
 ],
 "metadata": {
  "kernelspec": {
   "display_name": "Python 3",
   "language": "python",
   "name": "python3"
  },
  "language_info": {
   "codemirror_mode": {
    "name": "ipython",
    "version": 3
   },
   "file_extension": ".py",
   "mimetype": "text/x-python",
   "name": "python",
   "nbconvert_exporter": "python",
   "pygments_lexer": "ipython3",
   "version": "3.5.3"
  }
 },
 "nbformat": 4,
 "nbformat_minor": 2
}
