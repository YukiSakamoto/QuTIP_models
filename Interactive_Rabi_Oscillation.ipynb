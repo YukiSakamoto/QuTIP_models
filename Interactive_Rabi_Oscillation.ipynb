{
 "cells": [
  {
   "cell_type": "markdown",
   "metadata": {},
   "source": [
    "# QuTiP example: Vacuum Rabi oscillations in the Jaynes-Cummings model\n",
    "\n",
    "This notebook is based on https://nbviewer.jupyter.org/github/qutip/qutip-notebooks/blob/master/examples/rabi-oscillations.ipynb#QuTiP-example:-Vacuum-Rabi-oscillations-in-the-Jaynes-Cummings-model\n",
    " \n",
    " This ipython notebook demonstrates how to simulate the quantum vacuum rabi oscillations in the Jaynes-Cumming model, using QuTiP: The Quantum Toolbox in Python.\n",
    "\n",
    " For more information about QuTiP see project web page: http://code.google.com/p/qutip/\n"
   ]
  },
  {
   "cell_type": "code",
   "execution_count": 3,
   "metadata": {},
   "outputs": [],
   "source": [
    "%matplotlib inline\n",
    "import matplotlib.pyplot as plt\n",
    "import numpy as np\n",
    "from qutip import *"
   ]
  },
  {
   "cell_type": "markdown",
   "metadata": {},
   "source": [
    "# Introduction\n",
    " \n",
    " The Jaynes-Cumming model is the simplest possible model of quantum mechanical light-matter interaction, describing a single two-level atom interacting with a single electromagnetic cavity mode. The Hamiltonian for this system is (in dipole interaction form)\n",
    " \n",
    " $H = \\hbar \\omega_c a^\\dagger a + \\frac{1}{2}\\hbar\\omega_a\\sigma_z + \\hbar g(a^\\dagger + a)(\\sigma_- + \\sigma_+)$\n",
    " \n",
    " or with the rotating-wave approximation\n",
    " \n",
    " $H_{\\rm RWA} = \\hbar \\omega_c a^\\dagger a + \\frac{1}{2}\\hbar\\omega_a\\sigma_z + \\hbar g(a^\\dagger\\sigma_- + a\\sigma_+)$\n",
    " \n",
    " where $\\omega_c$ and $\\omega_a$ are the frequencies of the cavity and atom, respectively, and $g$ is the interaction strength.\n",
    " \n",
    "  Here we use units where $\\hbar = 1$: "
   ]
  },
  {
   "cell_type": "code",
   "execution_count": 41,
   "metadata": {},
   "outputs": [
    {
     "data": {
      "application/vnd.jupyter.widget-view+json": {
       "model_id": "422bfeb283ad4bceb6211a0e32f5e8e4",
       "version_major": 2,
       "version_minor": 0
      },
      "text/plain": [
       "interactive(children=(FloatSlider(value=1.0, description='wc_per_2pi', max=2.0), FloatSlider(value=1.0, descri…"
      ]
     },
     "metadata": {},
     "output_type": "display_data"
    },
    {
     "data": {
      "text/plain": [
       "<function __main__.calculate>"
      ]
     },
     "execution_count": 41,
     "metadata": {},
     "output_type": "execute_result"
    }
   ],
   "source": [
    "def calculate(wc_per_2pi, wa_per_2pi, g_per_2pi, kappa, gamma, n_th_a, use_rwa = True):\n",
    "    \n",
    "    wc = wc_per_2pi  * 2 * np.pi  # cavity frequency\n",
    "    wa = wa_per_2pi  * 2 * np.pi  # atom frequency\n",
    "    g  = g_per_2pi * 2 * np.pi  # coupling strength\n",
    "    #kappa = 0.005          # cavity dissipation rate\n",
    "    #gamma = 0.05           # atom dissipation rate\n",
    "    N = 15                 # number of cavity fock states\n",
    "    #n_th_a = 0.0           # temperature in frequency units\n",
    "    #use_rwa = True\n",
    "\n",
    "    tlist = np.linspace(0,25,100)\n",
    "    \n",
    "    # intial state\n",
    "    psi0 = tensor(basis(N,0), basis(2,1))    # start with an excited atom\n",
    "\n",
    "    # operators\n",
    "    a  = tensor(destroy(N), qeye(2))\n",
    "    sm = tensor(qeye(N), destroy(2))\n",
    "\n",
    "    # Hamiltonian\n",
    "    if use_rwa:\n",
    "        H = wc * a.dag() * a + wa * sm.dag() * sm + g * (a.dag() * sm + a * sm.dag())\n",
    "    else:\n",
    "        H = wc * a.dag() * a + wa * sm.dag() * sm + g * (a.dag() + a) * (sm + sm.dag())\n",
    "    \n",
    "    c_op_list = []\n",
    "\n",
    "    rate = kappa * (1 + n_th_a)\n",
    "    if rate > 0.0:\n",
    "        c_op_list.append(np.sqrt(rate) * a)\n",
    "\n",
    "    rate = kappa * n_th_a\n",
    "    if rate > 0.0:\n",
    "        c_op_list.append(np.sqrt(rate) * a.dag())\n",
    "\n",
    "    rate = gamma\n",
    "    if rate > 0.0:\n",
    "        c_op_list.append(np.sqrt(rate) * sm)\n",
    "    \n",
    "    output = mesolve(H, psi0, tlist, c_op_list, [a.dag() * a, sm.dag() * sm])\n",
    "    \n",
    "    fig, ax = plt.subplots(figsize=(8,5))\n",
    "    ax.plot(tlist, output.expect[0], label=\"Cavity\")\n",
    "    ax.plot(tlist, output.expect[1], label=\"Atom excited state\")\n",
    "    ax.legend()\n",
    "    ax.set_xlabel('Time')\n",
    "    ax.set_ylabel('Occupation probability')\n",
    "    ax.set_title('Vacuum Rabi oscillations');\n",
    "\n",
    "    \n",
    "#calculate(wc,wa,g,kappa,gamma,n_th_a)\n",
    "\n",
    "from ipywidgets import interact\n",
    "interact(calculate, wc_per_2pi = (0, 2, 0.1), wa_per_2pi = (0, 2, 0.1), g_per_2pi = (0.00, 0.1, 0.01), \n",
    "         kappa = (0.0, 0.01, 0.001), gamma = (0.0, 0.10, 0.01), n_th_a = 0 )"
   ]
  },
  {
   "cell_type": "code",
   "execution_count": null,
   "metadata": {},
   "outputs": [],
   "source": []
  }
 ],
 "metadata": {
  "kernelspec": {
   "display_name": "Python 3",
   "language": "python",
   "name": "python3"
  },
  "language_info": {
   "codemirror_mode": {
    "name": "ipython",
    "version": 3
   },
   "file_extension": ".py",
   "mimetype": "text/x-python",
   "name": "python",
   "nbconvert_exporter": "python",
   "pygments_lexer": "ipython3",
   "version": "3.5.3"
  }
 },
 "nbformat": 4,
 "nbformat_minor": 2
}
