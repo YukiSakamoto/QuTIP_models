{
 "cells": [
  {
   "cell_type": "markdown",
   "metadata": {},
   "source": [
    "# QuTiP example: Single-Qubit Dynamics\n",
    "\n",
    "This notebook is based on https://nbviewer.jupyter.org/github/qutip/qutip-notebooks/blob/master/examples/qubit-dynamics.ipynb"
   ]
  },
  {
   "cell_type": "code",
   "execution_count": 15,
   "metadata": {},
   "outputs": [],
   "source": [
    "%matplotlib inline\n",
    "import matplotlib.pyplot as plt\n",
    "import numpy as np\n",
    "from qutip import *"
   ]
  },
  {
   "cell_type": "code",
   "execution_count": 16,
   "metadata": {},
   "outputs": [
    {
     "data": {
      "application/vnd.jupyter.widget-view+json": {
       "model_id": "9d817c7984a442339d5e55d060855644",
       "version_major": 2,
       "version_minor": 0
      },
      "text/plain": [
       "interactive(children=(FloatSlider(value=0.0, description='epsilon_per_2pi', max=1.0), FloatSlider(value=1.0, d…"
      ]
     },
     "metadata": {},
     "output_type": "display_data"
    }
   ],
   "source": [
    "from ipywidgets import interact\n",
    "\n",
    "@interact(epsilon_per_2pi = 0.0, delta_per_2pi = (0,2,0.1), g2 = (0, 0.3, 0.01), g1 = 0.0)\n",
    "def calc_plot(epsilon_per_2pi, delta_per_2pi, g2, g1, plot_analytic = True):\n",
    "    epsilon = epsilon_per_2pi * 2 * np.pi   # cavity frequency\n",
    "    delta   = delta_per_2pi * 2 * np.pi   # atom frequency\n",
    "    #g2 = 0.15\n",
    "    #g1 = 0.0\n",
    "\n",
    "    # intial state\n",
    "    psi0 = basis(2,0)\n",
    "\n",
    "    tlist = np.linspace(0,5,200)\n",
    "\n",
    "    sx1, sy1, sz1 = qubit_integrate(epsilon, delta, g1, g2, \"me\")\n",
    "    fig, ax = plt.subplots(figsize=(12,6))\n",
    "    ax.plot(tlist, np.real(sx1), 'r')\n",
    "    ax.plot(tlist, np.real(sy1), 'b')\n",
    "    ax.plot(tlist, np.real(sz1), 'g')\n",
    "    \n",
    "    if plot_analytic:\n",
    "        sx_analytic = np.zeros(shape(tlist))\n",
    "        sy_analytic = -np.sin(2*np.pi*tlist) * np.exp(-tlist * g2)\n",
    "        sz_analytic = np.cos(2*np.pi*tlist) * np.exp(-tlist * g2)\n",
    "        ax.plot(tlist, sx_analytic, 'r*')\n",
    "        ax.plot(tlist, sy_analytic, 'g*')\n",
    "        ax.plot(tlist, sz_analytic, 'g*')\n",
    "    ax.legend((\"sx\", \"sy\", \"sz\"))\n",
    "    ax.set_xlabel('Time')\n",
    "    ax.set_ylabel('expectation value');"
   ]
  },
  {
   "cell_type": "code",
   "execution_count": null,
   "metadata": {},
   "outputs": [],
   "source": []
  }
 ],
 "metadata": {
  "kernelspec": {
   "display_name": "Python 3",
   "language": "python",
   "name": "python3"
  },
  "language_info": {
   "codemirror_mode": {
    "name": "ipython",
    "version": 3
   },
   "file_extension": ".py",
   "mimetype": "text/x-python",
   "name": "python",
   "nbconvert_exporter": "python",
   "pygments_lexer": "ipython3",
   "version": "3.5.3"
  }
 },
 "nbformat": 4,
 "nbformat_minor": 2
}
