{
 "cells": [
  {
   "cell_type": "code",
   "execution_count": 4,
   "metadata": {},
   "outputs": [],
   "source": [
    "from qutip import *\n",
    "import numpy as np\n"
   ]
  },
  {
   "cell_type": "code",
   "execution_count": 5,
   "metadata": {},
   "outputs": [],
   "source": [
    "w     = 1.0 * 2 * np.pi   # qubit angular frequency\n",
    "theta = 0.2 * np.pi       # qubit angle from sigma_z axis (toward sigma_x axis)\n",
    "gamma1 = 0.05      # qubit relaxation rate\n",
    "gamma2 = 0.02      # qubit dephasing rate\n",
    "# initial state\n",
    "a = 1.0\n",
    "psi0 = (a * basis(2,0) + (1-a)*basis(2,1))/(np.sqrt(a**2 + (1-a)**2))\n"
   ]
  },
  {
   "cell_type": "code",
   "execution_count": 6,
   "metadata": {},
   "outputs": [],
   "source": [
    "def qubit_integrate(w, theta, gamma1, gamma2, psi0, tlist):\n",
    "    # Hamiltonian\n",
    "    sx = sigmax()\n",
    "    sy = sigmay()\n",
    "    sz = sigmaz()\n",
    "    sm = sigmam()\n",
    "    H = w * (np.cos(theta) * sz + np.sin(theta) * sx)\n",
    "    # collapse operators\n",
    "    c_op_list = []\n",
    "    n_th = 0.5 # zero temperature\n",
    "    rate = gamma1 * (n_th + 1)\n",
    "    if rate > 0.0:\n",
    "        c_op_list.append(np.sqrt(rate) * sm)\n",
    "    rate = gamma1 * n_th\n",
    "    if rate > 0.0:\n",
    "        c_op_list.append(np.sqrt(rate) * sm.dag())\n",
    "    rate = gamma2\n",
    "    if rate > 0.0:\n",
    "        c_op_list.append(np.sqrt(rate) * sz)\n",
    "    # evolve and calculate expectation values\n",
    "    output = mesolve(H, psi0, tlist, c_op_list, [sx, sy, sz])  \n",
    "    return output.expect[0], output.expect[1], output.expect[2]"
   ]
  },
  {
   "cell_type": "code",
   "execution_count": 11,
   "metadata": {},
   "outputs": [
    {
     "data": {
      "application/vnd.jupyter.widget-view+json": {
       "model_id": "042bd8f0a0394c3ab0fc4541b7f87833",
       "version_major": 2,
       "version_minor": 0
      },
      "text/plain": [
       "interactive(children=(FloatSlider(value=1.0, description='w', max=2.0), FloatSlider(value=0.2, description='th…"
      ]
     },
     "metadata": {},
     "output_type": "display_data"
    },
    {
     "data": {
      "text/plain": [
       "<function __main__.calculate(w, theta, gamma1, gamma2, upto, number)>"
      ]
     },
     "execution_count": 11,
     "metadata": {},
     "output_type": "execute_result"
    }
   ],
   "source": [
    "\n",
    "\n",
    "import numpy as np\n",
    "\n",
    "def calculate(w, theta, gamma1, gamma2, upto, number):\n",
    "    w = w * 2 * np.pi\n",
    "    theta = theta * 0.2 * np.pi\n",
    "    a = 1.0\n",
    "    psi0 = (a * basis(2,0) + (1-a)*basis(2,1))/(np.sqrt(a**2 + (1-a)**2))\n",
    "    \n",
    "    tlist = np.linspace(0,upto,number)\n",
    "    sx, sy, sz = qubit_integrate(w, theta, gamma1, gamma2, psi0, tlist)\n",
    "    sphere=Bloch()\n",
    "    sphere.add_points([sx,sy,sz], meth='l')\n",
    "    sphere.vector_color = ['r']\n",
    "    sphere.add_vectors([np.sin(theta), 0, np.cos(theta)])\n",
    "    sphere.show()\n",
    "    \n",
    "from ipywidgets import interact\n",
    "interact(calculate, w=(0.0, 2.0, 0.1), theta=(0, 0.4, 0.1), gamma1=(0, 0.1, 0.01), gamma2=(0, 0.04, 0.02), upto=(0, 30, 2), number=(0, 3000, 100) )"
   ]
  },
  {
   "cell_type": "code",
   "execution_count": null,
   "metadata": {},
   "outputs": [],
   "source": []
  }
 ],
 "metadata": {
  "kernelspec": {
   "display_name": "Python 3",
   "language": "python",
   "name": "python3"
  },
  "language_info": {
   "codemirror_mode": {
    "name": "ipython",
    "version": 3
   },
   "file_extension": ".py",
   "mimetype": "text/x-python",
   "name": "python",
   "nbconvert_exporter": "python",
   "pygments_lexer": "ipython3",
   "version": "3.6.0"
  }
 },
 "nbformat": 4,
 "nbformat_minor": 2
}
